{
 "cells": [
  {
   "cell_type": "code",
   "execution_count": 1,
   "id": "69870834-20e9-495b-84e4-6c14cf47320c",
   "metadata": {},
   "outputs": [],
   "source": [
    "import numpy as np\n",
    "import matplotlib.pyplot as plt\n",
    "import random"
   ]
  },
  {
   "cell_type": "code",
   "execution_count": 6,
   "id": "73a1ff65-c9e6-4df4-9f8e-da09082c3f29",
   "metadata": {},
   "outputs": [],
   "source": [
    "### Atribua seu número de matrícula à variável 'numMat'\n",
    "\n",
    "numMat = 0000\n",
    "\n",
    "### gerando o sinal para a atividade\n",
    "random.seed(numMat)\n",
    "f1 = random.randrange(1,20)\n",
    "f2 = random.randrange(21,40)\n",
    "f3 = random.randrange(41,60)\n",
    "A1 = random.randrange(10,50,1)/10\n",
    "A2 = random.randrange(10,50,2)/10\n",
    "A3 = random.randrange(10,50,5)/10\n",
    "Ts = 1/1e3\n",
    "t = np.arange(0,2,Ts)\n",
    "sinal = A1*np.cos(2*np.pi*f1*t) + A2*np.cos(2*np.pi*f2*t) + A3*np.cos(2*np.pi*f3*t)\n",
    "ruido = np.zeros(len(sinal))\n",
    "for k in range(0,len(ruido)):\n",
    "    ruido[k] = random.gauss(0,4)\n",
    "\n",
    "s = sinal + ruido\n",
    "# salvando o sinal\n",
    "with open('sinal.npy','wb') as arq:\n",
    "    np.save(arq,s)"
   ]
  },
  {
   "cell_type": "code",
   "execution_count": 5,
   "id": "7017a1b1-9276-4841-97a1-337fdce2e5f4",
   "metadata": {},
   "outputs": [],
   "source": [
    "# carregando o sinal\n",
    "s = 0\n",
    "Ts = 1/1e3\n",
    "with open('sinal.npy','rb') as arq:\n",
    "    s = np.load(arq)\n",
    "\n",
    "# exibindo o sinal\n",
    "t = np.arange(0,len(s)*Ts,Ts)\n",
    "plt.figure()\n",
    "plt.clf()\n",
    "plt.plot(t,s)\n",
    "plt.grid(True)\n",
    "plt.show()"
   ]
  }
 ],
 "metadata": {
  "kernelspec": {
   "display_name": "Python 3 (ipykernel)",
   "language": "python",
   "name": "python3"
  },
  "language_info": {
   "codemirror_mode": {
    "name": "ipython",
    "version": 3
   },
   "file_extension": ".py",
   "mimetype": "text/x-python",
   "name": "python",
   "nbconvert_exporter": "python",
   "pygments_lexer": "ipython3",
   "version": "3.11.4"
  }
 },
 "nbformat": 4,
 "nbformat_minor": 5
}
